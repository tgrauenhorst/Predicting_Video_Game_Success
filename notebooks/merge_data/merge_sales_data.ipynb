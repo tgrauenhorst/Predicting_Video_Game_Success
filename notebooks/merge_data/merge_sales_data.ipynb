{
 "cells": [
  {
   "cell_type": "markdown",
   "metadata": {},
   "source": [
    "# Merge Sales with Steam Dataset"
   ]
  },
  {
   "cell_type": "markdown",
   "metadata": {
    "vscode": {
     "languageId": "plaintext"
    }
   },
   "source": [
    "## Preliminary"
   ]
  },
  {
   "cell_type": "markdown",
   "metadata": {
    "vscode": {
     "languageId": "plaintext"
    }
   },
   "source": [
    "### Import Modules"
   ]
  },
  {
   "cell_type": "code",
   "execution_count": null,
   "metadata": {},
   "outputs": [],
   "source": [
    "import pandas as pd\n",
    "import numpy as np\n",
    "from difflib import SequenceMatcher\n",
    "\n",
    "import sys\n",
    "sys.path.append('../../') # add path of project root directory to sys.path so that project modules from utilities.py can be imported\n",
    "\n",
    "from utilities import URLMerge"
   ]
  },
  {
   "cell_type": "markdown",
   "metadata": {},
   "source": [
    "### Set Options"
   ]
  },
  {
   "cell_type": "code",
   "execution_count": null,
   "metadata": {},
   "outputs": [],
   "source": [
    "pd.set_option('display.max_rows', 70) # display more rows\n",
    "pd.set_option('display.max_columns', 50) # display more columns\n",
    "pd.set_option('display.float_format', '{:.2f}'.format) # display numbers as decimals"
   ]
  },
  {
   "cell_type": "markdown",
   "metadata": {},
   "source": [
    "### Functions"
   ]
  },
  {
   "cell_type": "code",
   "execution_count": null,
   "metadata": {},
   "outputs": [],
   "source": [
    "def StringCompare(str1: str, str2: str, ratio: float=None):\n",
    "    \"\"\"\n",
    "    Calculates the similarity ratio between two strings.\n",
    "\n",
    "    Parameters:\n",
    "    str1 (str): The first string to compare.\n",
    "    str2 (str): The second string to compare.\n",
    "    ratio (float, optional): The minimum similarity ratio required for the strings to be considered similar.\n",
    "                                If None, the similarity ratio is returned without comparison to the specified ratio.\n",
    "\n",
    "    Returns:\n",
    "    bool: True if the similarity ratio between the strings is greater than or equal to the specified ratio,\n",
    "          False otherwise.\n",
    "    ratio (float): The similarity ratio between the strings if ratio is None.\n",
    "    \"\"\"\n",
    "    if ratio == None:\n",
    "        return SequenceMatcher(None, str1, str2).ratio()\n",
    "    else:\n",
    "        return SequenceMatcher(None, str1, str2).ratio() >= ratio"
   ]
  },
  {
   "cell_type": "code",
   "execution_count": null,
   "metadata": {},
   "outputs": [],
   "source": [
    "StringCompare('hello', 'henlo')"
   ]
  },
  {
   "cell_type": "code",
   "execution_count": null,
   "metadata": {},
   "outputs": [],
   "source": [
    "StringCompare('hello', 'henlo', 0.7)"
   ]
  },
  {
   "cell_type": "code",
   "execution_count": null,
   "metadata": {},
   "outputs": [],
   "source": [
    "StringCompare('hello', 'henlo', 0.9)"
   ]
  },
  {
   "cell_type": "markdown",
   "metadata": {},
   "source": [
    "## Load Data"
   ]
  },
  {
   "cell_type": "code",
   "execution_count": null,
   "metadata": {},
   "outputs": [],
   "source": [
    "df_steamdb = pd.read_json(r'../../data/steamdb.json')\n",
    "df_game_data = pd.read_csv(r'../../data/game_data_all.csv')\n",
    "df_steam = URLMerge(df_steamdb, 'store_url', df_game_data, 'link')\n",
    "df_sales = pd.read_csv(r'../../data/vgchartz-2024.csv')"
   ]
  },
  {
   "cell_type": "code",
   "execution_count": null,
   "metadata": {},
   "outputs": [],
   "source": [
    "df_steam"
   ]
  },
  {
   "cell_type": "code",
   "execution_count": null,
   "metadata": {},
   "outputs": [],
   "source": [
    "df_sales"
   ]
  },
  {
   "cell_type": "markdown",
   "metadata": {},
   "source": [
    "## Format Data"
   ]
  },
  {
   "cell_type": "markdown",
   "metadata": {},
   "source": [
    "### Set Datetime Types"
   ]
  },
  {
   "cell_type": "code",
   "execution_count": null,
   "metadata": {},
   "outputs": [],
   "source": [
    "# format datetime\n",
    "df_sales['release_date'] = pd.to_datetime(df_sales['release_date'])\n",
    "\n",
    "df_steam['release'] = pd.to_datetime(df_steam['release'])\n",
    "df_steam['published_meta'] = pd.to_datetime(df_steam['published_meta'])\n",
    "df_steam['published_stsp'] = pd.to_datetime(df_steam['published_stsp'])\n",
    "df_steam['published_hltb'] = pd.to_datetime(df_steam['published_hltb'])\n",
    "df_steam['published_igdb'] = pd.to_datetime(df_steam['published_igdb'])"
   ]
  },
  {
   "cell_type": "markdown",
   "metadata": {},
   "source": [
    "## Inspect Data"
   ]
  },
  {
   "cell_type": "markdown",
   "metadata": {},
   "source": [
    "### Sales Data"
   ]
  },
  {
   "cell_type": "markdown",
   "metadata": {},
   "source": [
    "#### Console - Unique Values"
   ]
  },
  {
   "cell_type": "code",
   "execution_count": null,
   "metadata": {},
   "outputs": [],
   "source": [
    "df_sales['console'].unique()"
   ]
  },
  {
   "cell_type": "markdown",
   "metadata": {},
   "source": [
    "#### Developers - Unique Values"
   ]
  },
  {
   "cell_type": "code",
   "execution_count": null,
   "metadata": {},
   "outputs": [],
   "source": [
    "list(df_sales['developer'].unique())"
   ]
  },
  {
   "cell_type": "markdown",
   "metadata": {},
   "source": [
    "#### Columns"
   ]
  },
  {
   "cell_type": "code",
   "execution_count": null,
   "metadata": {},
   "outputs": [],
   "source": [
    "list(df_sales.columns)"
   ]
  },
  {
   "cell_type": "markdown",
   "metadata": {},
   "source": [
    "### Steam Data"
   ]
  },
  {
   "cell_type": "markdown",
   "metadata": {},
   "source": [
    "#### Columns"
   ]
  },
  {
   "cell_type": "code",
   "execution_count": null,
   "metadata": {},
   "outputs": [],
   "source": [
    "list(df_steam.columns)"
   ]
  },
  {
   "cell_type": "markdown",
   "metadata": {},
   "source": [
    "## Filter Data"
   ]
  },
  {
   "cell_type": "markdown",
   "metadata": {},
   "source": [
    "### Drop Columns"
   ]
  },
  {
   "cell_type": "code",
   "execution_count": null,
   "metadata": {},
   "outputs": [],
   "source": [
    "# df_steam.drop([], axis=1, inplace=True)"
   ]
  },
  {
   "cell_type": "markdown",
   "metadata": {},
   "source": [
    "### Drop Missing Values"
   ]
  },
  {
   "cell_type": "code",
   "execution_count": null,
   "metadata": {},
   "outputs": [],
   "source": [
    "print(df_sales.shape)\n",
    "df_sales.dropna(subset=['total_sales'], inplace=True)\n",
    "print(df_sales.shape)"
   ]
  },
  {
   "cell_type": "markdown",
   "metadata": {},
   "source": [
    "### Subset by Console"
   ]
  },
  {
   "cell_type": "code",
   "execution_count": null,
   "metadata": {},
   "outputs": [],
   "source": [
    "print(df_sales.shape)\n",
    "mask_pc = df_sales['console'] == 'PC'\n",
    "mask_pc += df_sales['console'] == 'OSX'\n",
    "mask_pc += df_sales['console'] == 'Linux'\n",
    "mask_pc\n",
    "# subset for pc games only\n",
    "#df_sales = df_sales[mask_pc]\n",
    "print(df_sales.shape)"
   ]
  },
  {
   "cell_type": "markdown",
   "metadata": {},
   "source": [
    "## Examples"
   ]
  },
  {
   "cell_type": "markdown",
   "metadata": {},
   "source": [
    "### Example for multiple platform game"
   ]
  },
  {
   "cell_type": "code",
   "execution_count": null,
   "metadata": {},
   "outputs": [],
   "source": [
    "df_sales[df_sales['title'] == 'Battlefield 3']"
   ]
  },
  {
   "cell_type": "code",
   "execution_count": null,
   "metadata": {},
   "outputs": [],
   "source": [
    "df_sales[df_sales['title'] == 'Sea of Thieves']"
   ]
  },
  {
   "cell_type": "markdown",
   "metadata": {},
   "source": [
    "### PC Games"
   ]
  },
  {
   "cell_type": "code",
   "execution_count": null,
   "metadata": {},
   "outputs": [],
   "source": [
    "df_sales.iloc[1000]"
   ]
  },
  {
   "cell_type": "code",
   "execution_count": null,
   "metadata": {},
   "outputs": [],
   "source": [
    "df_sales[df_sales['title'] == 'Kero Blaster'] # exact string is in df_merge1"
   ]
  },
  {
   "cell_type": "code",
   "execution_count": null,
   "metadata": {},
   "outputs": [],
   "source": [
    "df_sales[df_sales['title'] == 'Anno 1800'] # exact string is in df_merge1"
   ]
  },
  {
   "cell_type": "code",
   "execution_count": null,
   "metadata": {},
   "outputs": [],
   "source": [
    "df_sales[df_sales['title'] == 'Anno 2070'] # exact string is not in df_merge1"
   ]
  },
  {
   "cell_type": "markdown",
   "metadata": {},
   "source": [
    "## Matching"
   ]
  },
  {
   "cell_type": "code",
   "execution_count": null,
   "metadata": {},
   "outputs": [],
   "source": [
    "lookup_index = 21220 # as example\n",
    "\n",
    "lookup_name = df_sales.loc[lookup_index, 'title']\n",
    "lookup_publisher = df_sales.loc[lookup_index, 'publisher']\n",
    "lookup_developer = df_sales.loc[lookup_index, 'developer']\n",
    "lookup_release_date = df_sales.loc[lookup_index, 'release_date']\n",
    "\n",
    "similarity_array = np.array([])\n",
    "\n",
    "print('--------------------------------------------------------------------------------------------------------------')\n",
    "print(f'{lookup_name = }')\n",
    "print(f'{lookup_publisher = }')\n",
    "print(f'{lookup_release_date = }')\n",
    "print('-------------------------------------------------------------------')\n",
    "\n",
    "df_merge1_lookup = df_steam[df_steam['developer'] == lookup_developer]\n",
    "#df_merge1_lookup = df_merge1[df_merge1['publisher'] == lookup_publisher]\n",
    "\n",
    "if df_merge1_lookup.empty:\n",
    "    print('No matching publisher found in df_merge1')\n",
    "    print('--------------------------------------------------------------------------------------------------------------')\n",
    "else:\n",
    "    for game_entry in df_merge1_lookup.iterrows():\n",
    "        compare_name = game_entry[1]['name']\n",
    "        similarity_array = np.append(similarity_array, similar(lookup_name, compare_name))\n",
    "\n",
    "    best_match_index = similarity_array.argsort()[-1] # sort by similarity and get index of highest similarity\n",
    "    best_match_ratio = similarity_array[best_match_index] # get ratio of highest similarity\n",
    "    best_match_release_timedelta = abs(lookup_release_date - df_merge1_lookup.iloc[best_match_index]['published_meta'])\n",
    "\n",
    "    print(f'{best_match_index = }')\n",
    "    print(f'{best_match_ratio = }')\n",
    "    print(f'{df_merge1_lookup.iloc[best_match_index][\"name\"] = }')\n",
    "    print(f'{df_merge1_lookup.iloc[best_match_index][\"published_meta\"] = }')\n",
    "    print(f'{best_match_release_timedelta.days = }')\n",
    "    print('-------------------------------------------------------------------')\n",
    "\n",
    "    if best_match_ratio > 0.8 and best_match_release_timedelta.days < 10:\n",
    "        match_found = True\n",
    "    else:\n",
    "        match_found = False\n",
    "\n",
    "    print(f'{match_found = }')"
   ]
  }
 ],
 "metadata": {
  "kernelspec": {
   "display_name": "python3-11-8",
   "language": "python",
   "name": "python3"
  },
  "language_info": {
   "codemirror_mode": {
    "name": "ipython",
    "version": 3
   },
   "file_extension": ".py",
   "mimetype": "text/x-python",
   "name": "python",
   "nbconvert_exporter": "python",
   "pygments_lexer": "ipython3",
   "version": "3.11.8"
  }
 },
 "nbformat": 4,
 "nbformat_minor": 2
}
