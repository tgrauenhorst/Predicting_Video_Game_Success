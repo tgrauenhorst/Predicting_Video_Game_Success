{
 "cells": [
  {
   "cell_type": "markdown",
   "metadata": {},
   "source": [
    "# Merge Sales with Steam Dataset"
   ]
  },
  {
   "cell_type": "markdown",
   "metadata": {
    "vscode": {
     "languageId": "plaintext"
    }
   },
   "source": [
    "## Preliminary"
   ]
  },
  {
   "cell_type": "markdown",
   "metadata": {
    "vscode": {
     "languageId": "plaintext"
    }
   },
   "source": [
    "### Import Modules"
   ]
  },
  {
   "cell_type": "code",
   "execution_count": 1,
   "metadata": {},
   "outputs": [],
   "source": [
    "import pandas as pd\n",
    "import numpy as np\n",
    "from difflib import SequenceMatcher"
   ]
  },
  {
   "cell_type": "markdown",
   "metadata": {},
   "source": [
    "### Set Options"
   ]
  },
  {
   "cell_type": "code",
   "execution_count": 2,
   "metadata": {},
   "outputs": [],
   "source": [
    "pd.set_option('display.max_rows', 70) # display more rows\n",
    "pd.set_option('display.max_columns', 50) # display more columns\n",
    "pd.set_option('display.float_format', '{:.2f}'.format) # display numbers as decimals"
   ]
  },
  {
   "cell_type": "code",
   "execution_count": 3,
   "metadata": {},
   "outputs": [],
   "source": [
    "def similar(str1, str2):\n",
    "    return SequenceMatcher(None, str1, str2).ratio()"
   ]
  },
  {
   "cell_type": "markdown",
   "metadata": {},
   "source": [
    "## Load Data"
   ]
  },
  {
   "cell_type": "code",
   "execution_count": 4,
   "metadata": {},
   "outputs": [],
   "source": [
    "df_merge1 = pd.read_pickle(r'../../data/df_merge1.pkl')\n",
    "df_sales = pd.read_csv(r'../../data/vgchartz-2024.csv')"
   ]
  },
  {
   "cell_type": "markdown",
   "metadata": {},
   "source": [
    "## Format Data"
   ]
  },
  {
   "cell_type": "code",
   "execution_count": 5,
   "metadata": {},
   "outputs": [],
   "source": [
    "# format datetime\n",
    "df_sales['release_date'] = pd.to_datetime(df_sales['release_date'])\n",
    "df_merge1['release'] = pd.to_datetime(df_merge1['release'])\n",
    "df_merge1['published_meta'] = pd.to_datetime(df_merge1['published_meta'])\n",
    "\n",
    "# subset for pc games only\n",
    "df_sales_pc = df_sales[df_sales['console'] == 'PC']"
   ]
  },
  {
   "cell_type": "code",
   "execution_count": 24,
   "metadata": {},
   "outputs": [
    {
     "data": {
      "text/plain": [
       "(12617, 14)"
      ]
     },
     "execution_count": 24,
     "metadata": {},
     "output_type": "execute_result"
    }
   ],
   "source": [
    "df_sales_pc.shape"
   ]
  },
  {
   "cell_type": "code",
   "execution_count": 31,
   "metadata": {},
   "outputs": [
    {
     "data": {
      "text/plain": [
       "array(['PS3', 'PS4', 'PS2', 'X360', 'XOne', 'PC', 'PSP', 'Wii', 'PS',\n",
       "       'DS', '2600', 'GBA', 'NES', 'XB', 'PSN', 'GEN', 'PSV', 'DC', 'N64',\n",
       "       'SAT', 'SNES', 'GBC', 'GC', 'NS', '3DS', 'GB', 'WiiU', 'WS', 'VC',\n",
       "       'NG', 'WW', 'SCD', 'PCE', 'XBL', '3DO', 'GG', 'OSX', 'Mob', 'PCFX',\n",
       "       'Series', 'All', 'iOS', '5200', 'And', 'DSiW', 'Lynx', 'Linux',\n",
       "       'MS', 'ZXS', 'ACPC', 'Amig', '7800', 'DSi', 'AJ', 'WinP', 'iQue',\n",
       "       'GIZ', 'VB', 'Ouya', 'NGage', 'AST', 'MSD', 'S32X', 'XS', 'PS5',\n",
       "       'Int', 'CV', 'Arc', 'C64', 'FDS', 'MSX', 'OR', 'C128', 'CDi',\n",
       "       'CD32', 'BRW', 'FMT', 'ApII', 'Aco', 'BBCM', 'TG16'], dtype=object)"
      ]
     },
     "execution_count": 31,
     "metadata": {},
     "output_type": "execute_result"
    }
   ],
   "source": [
    "df_sales['console'].unique()"
   ]
  },
  {
   "cell_type": "markdown",
   "metadata": {},
   "source": [
    "## Examples"
   ]
  },
  {
   "cell_type": "code",
   "execution_count": 6,
   "metadata": {},
   "outputs": [
    {
     "data": {
      "text/plain": [
       "img             /games/boxart/default.jpg\n",
       "title                        Kero Blaster\n",
       "console                                PC\n",
       "genre                              Action\n",
       "publisher                    Studio Pixel\n",
       "developer                    Studio Pixel\n",
       "critic_score                          NaN\n",
       "total_sales                           NaN\n",
       "na_sales                              NaN\n",
       "jp_sales                              NaN\n",
       "pal_sales                             NaN\n",
       "other_sales                           NaN\n",
       "release_date          2014-05-11 00:00:00\n",
       "last_update                    2018-08-20\n",
       "Name: 21220, dtype: object"
      ]
     },
     "execution_count": 6,
     "metadata": {},
     "output_type": "execute_result"
    }
   ],
   "source": [
    "df_sales_pc.iloc[2103]"
   ]
  },
  {
   "cell_type": "code",
   "execution_count": 7,
   "metadata": {},
   "outputs": [
    {
     "data": {
      "text/html": [
       "<div>\n",
       "<style scoped>\n",
       "    .dataframe tbody tr th:only-of-type {\n",
       "        vertical-align: middle;\n",
       "    }\n",
       "\n",
       "    .dataframe tbody tr th {\n",
       "        vertical-align: top;\n",
       "    }\n",
       "\n",
       "    .dataframe thead th {\n",
       "        text-align: right;\n",
       "    }\n",
       "</style>\n",
       "<table border=\"1\" class=\"dataframe\">\n",
       "  <thead>\n",
       "    <tr style=\"text-align: right;\">\n",
       "      <th></th>\n",
       "      <th>img</th>\n",
       "      <th>title</th>\n",
       "      <th>console</th>\n",
       "      <th>genre</th>\n",
       "      <th>publisher</th>\n",
       "      <th>developer</th>\n",
       "      <th>critic_score</th>\n",
       "      <th>total_sales</th>\n",
       "      <th>na_sales</th>\n",
       "      <th>jp_sales</th>\n",
       "      <th>pal_sales</th>\n",
       "      <th>other_sales</th>\n",
       "      <th>release_date</th>\n",
       "      <th>last_update</th>\n",
       "    </tr>\n",
       "  </thead>\n",
       "  <tbody>\n",
       "    <tr>\n",
       "      <th>21220</th>\n",
       "      <td>/games/boxart/default.jpg</td>\n",
       "      <td>Kero Blaster</td>\n",
       "      <td>PC</td>\n",
       "      <td>Action</td>\n",
       "      <td>Studio Pixel</td>\n",
       "      <td>Studio Pixel</td>\n",
       "      <td>NaN</td>\n",
       "      <td>NaN</td>\n",
       "      <td>NaN</td>\n",
       "      <td>NaN</td>\n",
       "      <td>NaN</td>\n",
       "      <td>NaN</td>\n",
       "      <td>2014-05-11</td>\n",
       "      <td>2018-08-20</td>\n",
       "    </tr>\n",
       "  </tbody>\n",
       "</table>\n",
       "</div>"
      ],
      "text/plain": [
       "                             img         title console   genre     publisher  \\\n",
       "21220  /games/boxart/default.jpg  Kero Blaster      PC  Action  Studio Pixel   \n",
       "\n",
       "          developer  critic_score  total_sales  na_sales  jp_sales  pal_sales  \\\n",
       "21220  Studio Pixel           NaN          NaN       NaN       NaN        NaN   \n",
       "\n",
       "       other_sales release_date last_update  \n",
       "21220          NaN   2014-05-11  2018-08-20  "
      ]
     },
     "execution_count": 7,
     "metadata": {},
     "output_type": "execute_result"
    }
   ],
   "source": [
    "df_sales_pc[df_sales_pc['title'] == 'Kero Blaster'] # exact string is in df_merge1"
   ]
  },
  {
   "cell_type": "code",
   "execution_count": 8,
   "metadata": {},
   "outputs": [
    {
     "data": {
      "text/html": [
       "<div>\n",
       "<style scoped>\n",
       "    .dataframe tbody tr th:only-of-type {\n",
       "        vertical-align: middle;\n",
       "    }\n",
       "\n",
       "    .dataframe tbody tr th {\n",
       "        vertical-align: top;\n",
       "    }\n",
       "\n",
       "    .dataframe thead th {\n",
       "        text-align: right;\n",
       "    }\n",
       "</style>\n",
       "<table border=\"1\" class=\"dataframe\">\n",
       "  <thead>\n",
       "    <tr style=\"text-align: right;\">\n",
       "      <th></th>\n",
       "      <th>img</th>\n",
       "      <th>title</th>\n",
       "      <th>console</th>\n",
       "      <th>genre</th>\n",
       "      <th>publisher</th>\n",
       "      <th>developer</th>\n",
       "      <th>critic_score</th>\n",
       "      <th>total_sales</th>\n",
       "      <th>na_sales</th>\n",
       "      <th>jp_sales</th>\n",
       "      <th>pal_sales</th>\n",
       "      <th>other_sales</th>\n",
       "      <th>release_date</th>\n",
       "      <th>last_update</th>\n",
       "    </tr>\n",
       "  </thead>\n",
       "  <tbody>\n",
       "    <tr>\n",
       "      <th>63330</th>\n",
       "      <td>/games/boxart/full_4963434AmericaFrontccc.jpg</td>\n",
       "      <td>Anno 1800</td>\n",
       "      <td>PC</td>\n",
       "      <td>Strategy</td>\n",
       "      <td>Ubisoft</td>\n",
       "      <td>Blue Byte</td>\n",
       "      <td>NaN</td>\n",
       "      <td>NaN</td>\n",
       "      <td>NaN</td>\n",
       "      <td>NaN</td>\n",
       "      <td>NaN</td>\n",
       "      <td>NaN</td>\n",
       "      <td>2019-04-16</td>\n",
       "      <td>2018-08-12</td>\n",
       "    </tr>\n",
       "  </tbody>\n",
       "</table>\n",
       "</div>"
      ],
      "text/plain": [
       "                                                 img      title console  \\\n",
       "63330  /games/boxart/full_4963434AmericaFrontccc.jpg  Anno 1800      PC   \n",
       "\n",
       "          genre publisher  developer  critic_score  total_sales  na_sales  \\\n",
       "63330  Strategy   Ubisoft  Blue Byte           NaN          NaN       NaN   \n",
       "\n",
       "       jp_sales  pal_sales  other_sales release_date last_update  \n",
       "63330       NaN        NaN          NaN   2019-04-16  2018-08-12  "
      ]
     },
     "execution_count": 8,
     "metadata": {},
     "output_type": "execute_result"
    }
   ],
   "source": [
    "df_sales_pc[df_sales_pc['title'] == 'Anno 1800'] # exact string is in df_merge1"
   ]
  },
  {
   "cell_type": "code",
   "execution_count": 9,
   "metadata": {},
   "outputs": [
    {
     "data": {
      "text/html": [
       "<div>\n",
       "<style scoped>\n",
       "    .dataframe tbody tr th:only-of-type {\n",
       "        vertical-align: middle;\n",
       "    }\n",
       "\n",
       "    .dataframe tbody tr th {\n",
       "        vertical-align: top;\n",
       "    }\n",
       "\n",
       "    .dataframe thead th {\n",
       "        text-align: right;\n",
       "    }\n",
       "</style>\n",
       "<table border=\"1\" class=\"dataframe\">\n",
       "  <thead>\n",
       "    <tr style=\"text-align: right;\">\n",
       "      <th></th>\n",
       "      <th>img</th>\n",
       "      <th>title</th>\n",
       "      <th>console</th>\n",
       "      <th>genre</th>\n",
       "      <th>publisher</th>\n",
       "      <th>developer</th>\n",
       "      <th>critic_score</th>\n",
       "      <th>total_sales</th>\n",
       "      <th>na_sales</th>\n",
       "      <th>jp_sales</th>\n",
       "      <th>pal_sales</th>\n",
       "      <th>other_sales</th>\n",
       "      <th>release_date</th>\n",
       "      <th>last_update</th>\n",
       "    </tr>\n",
       "  </thead>\n",
       "  <tbody>\n",
       "    <tr>\n",
       "      <th>918</th>\n",
       "      <td>/games/boxart/full_anno-2070_524PALFront.jpg</td>\n",
       "      <td>Anno 2070</td>\n",
       "      <td>PC</td>\n",
       "      <td>Strategy</td>\n",
       "      <td>Ubisoft</td>\n",
       "      <td>Blue Byte Studio</td>\n",
       "      <td>8.70</td>\n",
       "      <td>1.40</td>\n",
       "      <td>NaN</td>\n",
       "      <td>NaN</td>\n",
       "      <td>1.14</td>\n",
       "      <td>0.26</td>\n",
       "      <td>2011-11-17</td>\n",
       "      <td>NaN</td>\n",
       "    </tr>\n",
       "  </tbody>\n",
       "</table>\n",
       "</div>"
      ],
      "text/plain": [
       "                                              img      title console  \\\n",
       "918  /games/boxart/full_anno-2070_524PALFront.jpg  Anno 2070      PC   \n",
       "\n",
       "        genre publisher         developer  critic_score  total_sales  \\\n",
       "918  Strategy   Ubisoft  Blue Byte Studio          8.70         1.40   \n",
       "\n",
       "     na_sales  jp_sales  pal_sales  other_sales release_date last_update  \n",
       "918       NaN       NaN       1.14         0.26   2011-11-17         NaN  "
      ]
     },
     "execution_count": 9,
     "metadata": {},
     "output_type": "execute_result"
    }
   ],
   "source": [
    "df_sales_pc[df_sales_pc['title'] == 'Anno 2070'] # exact string is not in df_merge1"
   ]
  },
  {
   "cell_type": "markdown",
   "metadata": {},
   "source": [
    "## Matching"
   ]
  },
  {
   "cell_type": "code",
   "execution_count": 30,
   "metadata": {},
   "outputs": [
    {
     "name": "stdout",
     "output_type": "stream",
     "text": [
      "--------------------------------------------------------------------------------------------------------------\n",
      "lookup_name = 'Kero Blaster'\n",
      "lookup_publisher = 'Studio Pixel'\n",
      "lookup_release_date = Timestamp('2014-05-11 00:00:00')\n",
      "-------------------------------------------------------------------\n",
      "best_match_index = 0\n",
      "best_match_ratio = 1.0\n",
      "df_merge1_lookup.iloc[best_match_index][\"name\"] = 'Kero Blaster'\n",
      "df_merge1_lookup.iloc[best_match_index][\"published_meta\"] = Timestamp('2014-05-11 00:00:00')\n",
      "best_match_release_timedelta.days = 0\n",
      "-------------------------------------------------------------------\n",
      "match_found = True\n"
     ]
    }
   ],
   "source": [
    "lookup_index = 21220 # as example\n",
    "\n",
    "lookup_name = df_sales_pc.loc[lookup_index, 'title']\n",
    "lookup_publisher = df_sales_pc.loc[lookup_index, 'publisher']\n",
    "lookup_developer = df_sales_pc.loc[lookup_index, 'developer']\n",
    "lookup_release_date = df_sales_pc.loc[lookup_index, 'release_date']\n",
    "\n",
    "similarity_array = np.array([])\n",
    "\n",
    "print('--------------------------------------------------------------------------------------------------------------')\n",
    "print(f'{lookup_name = }')\n",
    "print(f'{lookup_publisher = }')\n",
    "print(f'{lookup_release_date = }')\n",
    "print('-------------------------------------------------------------------')\n",
    "\n",
    "df_merge1_lookup = df_merge1[df_merge1['developer'] == lookup_developer]\n",
    "#df_merge1_lookup = df_merge1[df_merge1['publisher'] == lookup_publisher]\n",
    "\n",
    "if df_merge1_lookup.empty:\n",
    "    print('No matching publisher found in df_merge1')\n",
    "    print('--------------------------------------------------------------------------------------------------------------')\n",
    "else:\n",
    "    for game_entry in df_merge1_lookup.iterrows():\n",
    "        compare_name = game_entry[1]['name']\n",
    "        similarity_array = np.append(similarity_array, similar(lookup_name, compare_name))\n",
    "\n",
    "    best_match_index = similarity_array.argsort()[-1] # sort by similarity and get index of highest similarity\n",
    "    best_match_ratio = similarity_array[best_match_index] # get ratio of highest similarity\n",
    "    best_match_release_timedelta = abs(lookup_release_date - df_merge1_lookup.iloc[best_match_index]['published_meta'])\n",
    "\n",
    "    print(f'{best_match_index = }')\n",
    "    print(f'{best_match_ratio = }')\n",
    "    print(f'{df_merge1_lookup.iloc[best_match_index][\"name\"] = }')\n",
    "    print(f'{df_merge1_lookup.iloc[best_match_index][\"published_meta\"] = }')\n",
    "    print(f'{best_match_release_timedelta.days = }')\n",
    "    print('-------------------------------------------------------------------')\n",
    "\n",
    "    if best_match_ratio > 0.8 and best_match_release_timedelta.days < 10:\n",
    "        match_found = True\n",
    "    else:\n",
    "        match_found = False\n",
    "\n",
    "    print(f'{match_found = }')"
   ]
  }
 ],
 "metadata": {
  "kernelspec": {
   "display_name": "python3-11-8",
   "language": "python",
   "name": "python3"
  },
  "language_info": {
   "codemirror_mode": {
    "name": "ipython",
    "version": 3
   },
   "file_extension": ".py",
   "mimetype": "text/x-python",
   "name": "python",
   "nbconvert_exporter": "python",
   "pygments_lexer": "ipython3",
   "version": "3.11.8"
  }
 },
 "nbformat": 4,
 "nbformat_minor": 2
}
